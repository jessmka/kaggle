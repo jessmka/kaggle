{
 "cells": [
  {
   "cell_type": "code",
   "execution_count": 1,
   "metadata": {},
   "outputs": [],
   "source": [
    "# Links\n",
    "# https://link.springer.com/article/10.1007/BF01421959\n",
    "# https://arxiv.org/pdf/1805.07405.pdf\n",
    "# https://github.com/lstruski/Processing-of-missing-data-by-neural-networks"
   ]
  },
  {
   "cell_type": "code",
   "execution_count": 14,
   "metadata": {},
   "outputs": [],
   "source": [
    "import pandas as pd\n",
    "import numpy as np\n",
    "from sklearn.model_selection import train_test_split\n",
    "from sklearn.ensemble import RandomForestClassifier\n",
    "from sklearn import metrics\n",
    "from xgboost import XGBClassifier\n",
    "import xgboost\n",
    "from sklearn.model_selection import KFold\n",
    "from sklearn.model_selection import cross_val_score\n",
    "import matplotlib.pyplot as plt\n",
    "pd.set_option('display.max_rows', 1000)\n",
    "pd.set_option('display.max_columns', 500)"
   ]
  },
  {
   "cell_type": "code",
   "execution_count": 96,
   "metadata": {},
   "outputs": [],
   "source": [
    "def make_final_preds(model, threshold=0.26):\n",
    "    y_test_pred = model.predict_proba(test_output)\n",
    "    preds = pd.DataFrame(y_test_pred[:,1])\n",
    "    preds_out = pd.concat([unlabeled.encounter_id, preds],axis=1)\n",
    "    preds_out['hospital_death'] = np.where(preds[0]>=threshold,1,0)\n",
    "    dt = str(pd.Timestamp.now())[0:16]\n",
    "    preds_out[['encounter_id','hospital_death']].to_csv('/Users/jekahn/Documents/Personal/wids_attempt_'+dt+'.csv',index=False)\n",
    "    "
   ]
  },
  {
   "cell_type": "code",
   "execution_count": 68,
   "metadata": {},
   "outputs": [],
   "source": [
    "train = pd.read_csv('/Users/jekahn/Downloads/widsdatathon2020/training_v2.csv')\n",
    "wids_dict = pd.read_csv('/Users/jekahn/Downloads/widsdatathon2020/WiDS Datathon 2020 Dictionary.csv')\n",
    "unlabeled_ = pd.read_csv('/Users/jekahn/Downloads/widsdatathon2020/unlabeled.csv')"
   ]
  },
  {
   "cell_type": "code",
   "execution_count": 69,
   "metadata": {},
   "outputs": [],
   "source": [
    "train['data_row'] = 'train'\n",
    "unlabeled_['data_row'] = 'unlabeled'\n",
    "full_df_ = pd.concat([train, unlabeled_], axis=0)"
   ]
  },
  {
   "cell_type": "code",
   "execution_count": 75,
   "metadata": {},
   "outputs": [],
   "source": [
    "# Fill missing values separately for categorical and numeric columns\n",
    "data_row = full_df_.pop('data_row')\n",
    "full_df = full_df_.copy()\n",
    "full_df['hospital_id'] = full_df['hospital_id'].apply(str)\n",
    "full_df['icu_id'] = full_df['icu_id'].apply(str)\n",
    "full_df['hospital_admit_source'] = full_df['hospital_admit_source'].apply(str)\n",
    "\n",
    "num_cols = full_df.select_dtypes(include=np.number).columns.tolist()\n",
    "cat_cols = [col for col in full_df.columns if col not in num_cols]\n",
    "for col in num_cols:\n",
    "    full_df[col].fillna(full_df[col].mean(), inplace=True)\n",
    "\n",
    "full_df.ethnicity.fillna('Other/Unknown', inplace=True)\n",
    "full_df.gender.fillna('missing', inplace=True)\n",
    "full_df.hospital_admit_source.fillna('missing', inplace=True)\n",
    "full_df.icu_admit_source.fillna('missing', inplace=True)\n",
    "full_df.apache_3j_bodysystem.fillna('missing', inplace=True)\n",
    "full_df.apache_2_bodysystem.fillna('missing', inplace=True)"
   ]
  },
  {
   "cell_type": "code",
   "execution_count": null,
   "metadata": {},
   "outputs": [],
   "source": [
    "# act_cols\n",
    "# [col for col in X.columns if 'apache' in col]"
   ]
  },
  {
   "cell_type": "code",
   "execution_count": 148,
   "metadata": {},
   "outputs": [],
   "source": [
    "# # scratch\n",
    "# # data_row\n",
    "# # full_dfout[data_row=='unlabeled'].shape\n",
    "# # sum(X.columns=='hospital_death')\n",
    "# for i in num_cols:\n",
    "#     print(i, train[i].mean(), unlabeled[i].mean())"
   ]
  },
  {
   "cell_type": "code",
   "execution_count": 95,
   "metadata": {},
   "outputs": [],
   "source": [
    "dums = pd.get_dummies(full_df[cat_cols], drop_first=True)\n",
    "full_dfout = pd.concat([full_df[num_cols], dums], axis=1)\n",
    "y = full_dfout[data_row=='train'].pop('hospital_death')\n",
    "X = full_dfout[data_row=='train'].drop(['hospital_death','encounter_id','patient_id'], axis=1)\n",
    "test_output = full_dfout[data_row=='unlabeled'].drop(['hospital_death','encounter_id','patient_id'], axis=1)"
   ]
  },
  {
   "cell_type": "code",
   "execution_count": 90,
   "metadata": {},
   "outputs": [],
   "source": [
    "X_train, X_test, y_train, y_test = train_test_split(\n",
    "    X, y, test_size=0.2, random_state=42)"
   ]
  },
  {
   "cell_type": "code",
   "execution_count": 124,
   "metadata": {},
   "outputs": [
    {
     "name": "stdout",
     "output_type": "stream",
     "text": [
      "[0]\tvalidation_0-error:0.073327\tvalidation_0-logloss:0.653743\tvalidation_1-error:0.080194\tvalidation_1-logloss:0.654055\n",
      "[1]\tvalidation_0-error:0.070628\tvalidation_0-logloss:0.618065\tvalidation_1-error:0.077959\tvalidation_1-logloss:0.61925\n",
      "[2]\tvalidation_0-error:0.069361\tvalidation_0-logloss:0.586213\tvalidation_1-error:0.075451\tvalidation_1-logloss:0.587594\n",
      "[3]\tvalidation_0-error:0.068366\tvalidation_0-logloss:0.556809\tvalidation_1-error:0.075179\tvalidation_1-logloss:0.558625\n",
      "[4]\tvalidation_0-error:0.068011\tvalidation_0-logloss:0.530224\tvalidation_1-error:0.074742\tvalidation_1-logloss:0.532555\n",
      "[5]\tvalidation_0-error:0.068039\tvalidation_0-logloss:0.505598\tvalidation_1-error:0.074797\tvalidation_1-logloss:0.508464\n",
      "[6]\tvalidation_0-error:0.067098\tvalidation_0-logloss:0.483255\tvalidation_1-error:0.074797\tvalidation_1-logloss:0.486392\n",
      "[7]\tvalidation_0-error:0.066621\tvalidation_0-logloss:0.462454\tvalidation_1-error:0.073761\tvalidation_1-logloss:0.46612\n",
      "[8]\tvalidation_0-error:0.066376\tvalidation_0-logloss:0.443507\tvalidation_1-error:0.07327\tvalidation_1-logloss:0.44739\n",
      "[9]\tvalidation_0-error:0.066199\tvalidation_0-logloss:0.425779\tvalidation_1-error:0.07387\tvalidation_1-logloss:0.430279\n",
      "[10]\tvalidation_0-error:0.066103\tvalidation_0-logloss:0.409575\tvalidation_1-error:0.073107\tvalidation_1-logloss:0.414381\n",
      "[11]\tvalidation_0-error:0.06594\tvalidation_0-logloss:0.394408\tvalidation_1-error:0.073107\tvalidation_1-logloss:0.399654\n",
      "[12]\tvalidation_0-error:0.065844\tvalidation_0-logloss:0.38039\tvalidation_1-error:0.073434\tvalidation_1-logloss:0.386165\n",
      "[13]\tvalidation_0-error:0.065367\tvalidation_0-logloss:0.367483\tvalidation_1-error:0.072998\tvalidation_1-logloss:0.373596\n",
      "[14]\tvalidation_0-error:0.065067\tvalidation_0-logloss:0.355379\tvalidation_1-error:0.072889\tvalidation_1-logloss:0.361811\n",
      "[15]\tvalidation_0-error:0.064849\tvalidation_0-logloss:0.344102\tvalidation_1-error:0.073161\tvalidation_1-logloss:0.350919\n",
      "[16]\tvalidation_0-error:0.065081\tvalidation_0-logloss:0.333618\tvalidation_1-error:0.073161\tvalidation_1-logloss:0.340816\n",
      "[17]\tvalidation_0-error:0.064727\tvalidation_0-logloss:0.323765\tvalidation_1-error:0.072725\tvalidation_1-logloss:0.331378\n",
      "[18]\tvalidation_0-error:0.064713\tvalidation_0-logloss:0.314635\tvalidation_1-error:0.072507\tvalidation_1-logloss:0.322551\n",
      "[19]\tvalidation_0-error:0.0644\tvalidation_0-logloss:0.306066\tvalidation_1-error:0.072344\tvalidation_1-logloss:0.314235\n",
      "[20]\tvalidation_0-error:0.0644\tvalidation_0-logloss:0.29804\tvalidation_1-error:0.071744\tvalidation_1-logloss:0.306652\n",
      "[21]\tvalidation_0-error:0.064222\tvalidation_0-logloss:0.290558\tvalidation_1-error:0.072017\tvalidation_1-logloss:0.299552\n",
      "[22]\tvalidation_0-error:0.064236\tvalidation_0-logloss:0.283512\tvalidation_1-error:0.072071\tvalidation_1-logloss:0.293031\n",
      "[23]\tvalidation_0-error:0.064263\tvalidation_0-logloss:0.276918\tvalidation_1-error:0.072398\tvalidation_1-logloss:0.286876\n",
      "[24]\tvalidation_0-error:0.064127\tvalidation_0-logloss:0.270869\tvalidation_1-error:0.072235\tvalidation_1-logloss:0.281166\n",
      "[25]\tvalidation_0-error:0.063963\tvalidation_0-logloss:0.265026\tvalidation_1-error:0.071908\tvalidation_1-logloss:0.275639\n",
      "[26]\tvalidation_0-error:0.063759\tvalidation_0-logloss:0.259614\tvalidation_1-error:0.072398\tvalidation_1-logloss:0.270528\n",
      "[27]\tvalidation_0-error:0.063664\tvalidation_0-logloss:0.25439\tvalidation_1-error:0.072017\tvalidation_1-logloss:0.26575\n",
      "[28]\tvalidation_0-error:0.063827\tvalidation_0-logloss:0.24964\tvalidation_1-error:0.072126\tvalidation_1-logloss:0.26129\n",
      "[29]\tvalidation_0-error:0.063582\tvalidation_0-logloss:0.245179\tvalidation_1-error:0.072235\tvalidation_1-logloss:0.257165\n",
      "[30]\tvalidation_0-error:0.063486\tvalidation_0-logloss:0.240963\tvalidation_1-error:0.072344\tvalidation_1-logloss:0.253221\n",
      "[31]\tvalidation_0-error:0.06335\tvalidation_0-logloss:0.236923\tvalidation_1-error:0.072071\tvalidation_1-logloss:0.249663\n",
      "[32]\tvalidation_0-error:0.063159\tvalidation_0-logloss:0.233261\tvalidation_1-error:0.071908\tvalidation_1-logloss:0.246327\n",
      "[33]\tvalidation_0-error:0.062996\tvalidation_0-logloss:0.22961\tvalidation_1-error:0.071635\tvalidation_1-logloss:0.243083\n",
      "[34]\tvalidation_0-error:0.062914\tvalidation_0-logloss:0.226234\tvalidation_1-error:0.072017\tvalidation_1-logloss:0.239996\n",
      "[35]\tvalidation_0-error:0.062859\tvalidation_0-logloss:0.22305\tvalidation_1-error:0.071853\tvalidation_1-logloss:0.237202\n",
      "[36]\tvalidation_0-error:0.062859\tvalidation_0-logloss:0.220009\tvalidation_1-error:0.072017\tvalidation_1-logloss:0.23444\n",
      "[37]\tvalidation_0-error:0.062737\tvalidation_0-logloss:0.217065\tvalidation_1-error:0.071853\tvalidation_1-logloss:0.23198\n",
      "[38]\tvalidation_0-error:0.062655\tvalidation_0-logloss:0.214436\tvalidation_1-error:0.071962\tvalidation_1-logloss:0.229648\n",
      "[39]\tvalidation_0-error:0.062546\tvalidation_0-logloss:0.211839\tvalidation_1-error:0.071744\tvalidation_1-logloss:0.227477\n",
      "[40]\tvalidation_0-error:0.062491\tvalidation_0-logloss:0.209317\tvalidation_1-error:0.07158\tvalidation_1-logloss:0.225342\n",
      "[41]\tvalidation_0-error:0.062491\tvalidation_0-logloss:0.206962\tvalidation_1-error:0.071526\tvalidation_1-logloss:0.223356\n",
      "[42]\tvalidation_0-error:0.062273\tvalidation_0-logloss:0.204841\tvalidation_1-error:0.071035\tvalidation_1-logloss:0.221586\n",
      "[43]\tvalidation_0-error:0.062014\tvalidation_0-logloss:0.202663\tvalidation_1-error:0.070872\tvalidation_1-logloss:0.219807\n",
      "[44]\tvalidation_0-error:0.06211\tvalidation_0-logloss:0.200777\tvalidation_1-error:0.071035\tvalidation_1-logloss:0.218287\n",
      "[45]\tvalidation_0-error:0.062069\tvalidation_0-logloss:0.198883\tvalidation_1-error:0.071362\tvalidation_1-logloss:0.216874\n",
      "[46]\tvalidation_0-error:0.061933\tvalidation_0-logloss:0.197011\tvalidation_1-error:0.071199\tvalidation_1-logloss:0.21537\n",
      "[47]\tvalidation_0-error:0.061919\tvalidation_0-logloss:0.195272\tvalidation_1-error:0.071308\tvalidation_1-logloss:0.213988\n",
      "[48]\tvalidation_0-error:0.061783\tvalidation_0-logloss:0.193693\tvalidation_1-error:0.07109\tvalidation_1-logloss:0.212785\n",
      "[49]\tvalidation_0-error:0.061674\tvalidation_0-logloss:0.192246\tvalidation_1-error:0.071144\tvalidation_1-logloss:0.211687\n",
      "[50]\tvalidation_0-error:0.061428\tvalidation_0-logloss:0.190725\tvalidation_1-error:0.070763\tvalidation_1-logloss:0.210502\n",
      "[51]\tvalidation_0-error:0.061497\tvalidation_0-logloss:0.189389\tvalidation_1-error:0.071035\tvalidation_1-logloss:0.20942\n",
      "[52]\tvalidation_0-error:0.061415\tvalidation_0-logloss:0.188022\tvalidation_1-error:0.070926\tvalidation_1-logloss:0.208361\n",
      "[53]\tvalidation_0-error:0.061374\tvalidation_0-logloss:0.186731\tvalidation_1-error:0.07109\tvalidation_1-logloss:0.207452\n",
      "[54]\tvalidation_0-error:0.061224\tvalidation_0-logloss:0.18559\tvalidation_1-error:0.070926\tvalidation_1-logloss:0.206747\n",
      "[55]\tvalidation_0-error:0.061088\tvalidation_0-logloss:0.184399\tvalidation_1-error:0.070817\tvalidation_1-logloss:0.206015\n",
      "[56]\tvalidation_0-error:0.061101\tvalidation_0-logloss:0.183361\tvalidation_1-error:0.070926\tvalidation_1-logloss:0.205217\n",
      "[57]\tvalidation_0-error:0.060815\tvalidation_0-logloss:0.18216\tvalidation_1-error:0.070708\tvalidation_1-logloss:0.204406\n",
      "[58]\tvalidation_0-error:0.060706\tvalidation_0-logloss:0.181027\tvalidation_1-error:0.070436\tvalidation_1-logloss:0.203673\n",
      "[59]\tvalidation_0-error:0.060706\tvalidation_0-logloss:0.17997\tvalidation_1-error:0.070436\tvalidation_1-logloss:0.202967\n",
      "[60]\tvalidation_0-error:0.060624\tvalidation_0-logloss:0.178986\tvalidation_1-error:0.070436\tvalidation_1-logloss:0.202283\n",
      "[61]\tvalidation_0-error:0.060556\tvalidation_0-logloss:0.178107\tvalidation_1-error:0.070327\tvalidation_1-logloss:0.201689\n",
      "[62]\tvalidation_0-error:0.060447\tvalidation_0-logloss:0.177274\tvalidation_1-error:0.070272\tvalidation_1-logloss:0.20113\n",
      "[63]\tvalidation_0-error:0.060365\tvalidation_0-logloss:0.176445\tvalidation_1-error:0.070054\tvalidation_1-logloss:0.200609\n",
      "[64]\tvalidation_0-error:0.060161\tvalidation_0-logloss:0.1757\tvalidation_1-error:0.070108\tvalidation_1-logloss:0.200171\n",
      "[65]\tvalidation_0-error:0.06012\tvalidation_0-logloss:0.174962\tvalidation_1-error:0.070163\tvalidation_1-logloss:0.199663\n",
      "[66]\tvalidation_0-error:0.060243\tvalidation_0-logloss:0.174175\tvalidation_1-error:0.070218\tvalidation_1-logloss:0.199086\n",
      "[67]\tvalidation_0-error:0.060161\tvalidation_0-logloss:0.173404\tvalidation_1-error:0.070054\tvalidation_1-logloss:0.1987\n",
      "[68]\tvalidation_0-error:0.060038\tvalidation_0-logloss:0.172792\tvalidation_1-error:0.069945\tvalidation_1-logloss:0.198314\n",
      "[69]\tvalidation_0-error:0.05997\tvalidation_0-logloss:0.172087\tvalidation_1-error:0.070054\tvalidation_1-logloss:0.197944\n",
      "[70]\tvalidation_0-error:0.059834\tvalidation_0-logloss:0.171317\tvalidation_1-error:0.069454\tvalidation_1-logloss:0.197527\n",
      "[71]\tvalidation_0-error:0.059616\tvalidation_0-logloss:0.170678\tvalidation_1-error:0.069727\tvalidation_1-logloss:0.197224\n",
      "[72]\tvalidation_0-error:0.059438\tvalidation_0-logloss:0.169928\tvalidation_1-error:0.069836\tvalidation_1-logloss:0.196736\n",
      "[73]\tvalidation_0-error:0.059261\tvalidation_0-logloss:0.169338\tvalidation_1-error:0.06989\tvalidation_1-logloss:0.196429\n",
      "[74]\tvalidation_0-error:0.059179\tvalidation_0-logloss:0.168702\tvalidation_1-error:0.070163\tvalidation_1-logloss:0.196099\n",
      "[75]\tvalidation_0-error:0.058948\tvalidation_0-logloss:0.168136\tvalidation_1-error:0.070108\tvalidation_1-logloss:0.195821\n",
      "[76]\tvalidation_0-error:0.058921\tvalidation_0-logloss:0.167576\tvalidation_1-error:0.069727\tvalidation_1-logloss:0.195527\n",
      "[77]\tvalidation_0-error:0.058662\tvalidation_0-logloss:0.16692\tvalidation_1-error:0.069727\tvalidation_1-logloss:0.195176\n",
      "[78]\tvalidation_0-error:0.058416\tvalidation_0-logloss:0.166285\tvalidation_1-error:0.069672\tvalidation_1-logloss:0.194853\n",
      "[79]\tvalidation_0-error:0.058253\tvalidation_0-logloss:0.165785\tvalidation_1-error:0.0694\tvalidation_1-logloss:0.194594\n",
      "[80]\tvalidation_0-error:0.058239\tvalidation_0-logloss:0.165225\tvalidation_1-error:0.069454\tvalidation_1-logloss:0.194284\n",
      "[81]\tvalidation_0-error:0.058144\tvalidation_0-logloss:0.164782\tvalidation_1-error:0.069345\tvalidation_1-logloss:0.194063\n",
      "[82]\tvalidation_0-error:0.057966\tvalidation_0-logloss:0.16423\tvalidation_1-error:0.069672\tvalidation_1-logloss:0.193902\n",
      "[83]\tvalidation_0-error:0.057966\tvalidation_0-logloss:0.163679\tvalidation_1-error:0.069727\tvalidation_1-logloss:0.193688\n",
      "[84]\tvalidation_0-error:0.057844\tvalidation_0-logloss:0.163166\tvalidation_1-error:0.06989\tvalidation_1-logloss:0.193481\n",
      "[85]\tvalidation_0-error:0.057694\tvalidation_0-logloss:0.162652\tvalidation_1-error:0.069999\tvalidation_1-logloss:0.193366\n",
      "[86]\tvalidation_0-error:0.057598\tvalidation_0-logloss:0.162303\tvalidation_1-error:0.069781\tvalidation_1-logloss:0.193145\n",
      "[87]\tvalidation_0-error:0.057394\tvalidation_0-logloss:0.16184\tvalidation_1-error:0.069672\tvalidation_1-logloss:0.192834\n",
      "[88]\tvalidation_0-error:0.057435\tvalidation_0-logloss:0.161445\tvalidation_1-error:0.069291\tvalidation_1-logloss:0.192705\n",
      "[89]\tvalidation_0-error:0.057149\tvalidation_0-logloss:0.160904\tvalidation_1-error:0.069454\tvalidation_1-logloss:0.19258\n",
      "[90]\tvalidation_0-error:0.05704\tvalidation_0-logloss:0.160482\tvalidation_1-error:0.069291\tvalidation_1-logloss:0.192447\n",
      "[91]\tvalidation_0-error:0.056931\tvalidation_0-logloss:0.160183\tvalidation_1-error:0.069236\tvalidation_1-logloss:0.192332\n",
      "[92]\tvalidation_0-error:0.056767\tvalidation_0-logloss:0.159735\tvalidation_1-error:0.069291\tvalidation_1-logloss:0.192249\n",
      "[93]\tvalidation_0-error:0.056713\tvalidation_0-logloss:0.159372\tvalidation_1-error:0.069182\tvalidation_1-logloss:0.192168\n",
      "[94]\tvalidation_0-error:0.056617\tvalidation_0-logloss:0.158994\tvalidation_1-error:0.069127\tvalidation_1-logloss:0.192119\n",
      "[95]\tvalidation_0-error:0.056413\tvalidation_0-logloss:0.158576\tvalidation_1-error:0.068909\tvalidation_1-logloss:0.192023\n",
      "[96]\tvalidation_0-error:0.056263\tvalidation_0-logloss:0.15825\tvalidation_1-error:0.068746\tvalidation_1-logloss:0.192002\n",
      "[97]\tvalidation_0-error:0.056222\tvalidation_0-logloss:0.157903\tvalidation_1-error:0.069073\tvalidation_1-logloss:0.191912\n",
      "[98]\tvalidation_0-error:0.056167\tvalidation_0-logloss:0.157583\tvalidation_1-error:0.069127\tvalidation_1-logloss:0.191744\n",
      "[99]\tvalidation_0-error:0.056181\tvalidation_0-logloss:0.15721\tvalidation_1-error:0.069236\tvalidation_1-logloss:0.191602\n",
      "[100]\tvalidation_0-error:0.055949\tvalidation_0-logloss:0.156815\tvalidation_1-error:0.069127\tvalidation_1-logloss:0.191415\n",
      "[101]\tvalidation_0-error:0.055908\tvalidation_0-logloss:0.156505\tvalidation_1-error:0.069018\tvalidation_1-logloss:0.191315\n",
      "[102]\tvalidation_0-error:0.055799\tvalidation_0-logloss:0.156259\tvalidation_1-error:0.068855\tvalidation_1-logloss:0.191262\n",
      "[103]\tvalidation_0-error:0.055758\tvalidation_0-logloss:0.155836\tvalidation_1-error:0.068964\tvalidation_1-logloss:0.191167\n",
      "[104]\tvalidation_0-error:0.055772\tvalidation_0-logloss:0.15538\tvalidation_1-error:0.068637\tvalidation_1-logloss:0.190989\n",
      "[105]\tvalidation_0-error:0.055622\tvalidation_0-logloss:0.155071\tvalidation_1-error:0.068691\tvalidation_1-logloss:0.190901\n",
      "[106]\tvalidation_0-error:0.055609\tvalidation_0-logloss:0.154887\tvalidation_1-error:0.0688\tvalidation_1-logloss:0.190865\n",
      "[107]\tvalidation_0-error:0.055513\tvalidation_0-logloss:0.154602\tvalidation_1-error:0.068364\tvalidation_1-logloss:0.190793\n",
      "[108]\tvalidation_0-error:0.055609\tvalidation_0-logloss:0.154389\tvalidation_1-error:0.068473\tvalidation_1-logloss:0.190743\n",
      "[109]\tvalidation_0-error:0.055431\tvalidation_0-logloss:0.154056\tvalidation_1-error:0.068746\tvalidation_1-logloss:0.190701\n"
     ]
    },
    {
     "data": {
      "text/plain": [
       "XGBClassifier(base_score=0.5, booster='gbtree', colsample_bylevel=1,\n",
       "              colsample_bynode=1, colsample_bytree=0.9139582583049244, gamma=0,\n",
       "              learning_rate=0.052295392520819085, max_delta_step=0, max_depth=7,\n",
       "              min_child_weight=3, missing=None, n_estimators=110, n_jobs=1,\n",
       "              nthread=None, objective='binary:logistic', random_state=0,\n",
       "              reg_alpha=0, reg_lambda=1, scale_pos_weight=1, seed=None,\n",
       "              silent=None, subsample=0.3835058649443393, verbosity=0)"
      ]
     },
     "execution_count": 124,
     "metadata": {},
     "output_type": "execute_result"
    }
   ],
   "source": [
    "# n_estimators should be 440\n",
    "xgb_model = XGBClassifier(base_score=0.5, booster='gbtree', colsample_bylevel=1,\n",
    "              colsample_bynode=1, colsample_bytree=0.9139582583049244, gamma=0,\n",
    "              learning_rate=0.052295392520819085, max_delta_step=0, max_depth=7,\n",
    "              min_child_weight=3, missing=None, n_estimators=110, n_jobs=1,\n",
    "              nthread=None, objective='binary:logistic', random_state=0,\n",
    "              reg_alpha=0, reg_lambda=1, scale_pos_weight=1, seed=None,\n",
    "              silent=None, subsample=0.3835058649443393, verbosity=0)\n",
    "eval_set = [(X_train, y_train), (X_test, y_test)]\n",
    "xgb_model.fit(X_train, y_train, eval_metric=[\"error\",'logloss'],  eval_set=eval_set)"
   ]
  },
  {
   "cell_type": "code",
   "execution_count": 125,
   "metadata": {},
   "outputs": [
    {
     "data": {
      "image/png": "[encoded data removed]",
      "text/plain": [
       "<Figure size 432x288 with 1 Axes>"
      ]
     },
     "metadata": {
      "needs_background": "light"
     },
     "output_type": "display_data"
    }
   ],
   "source": [
    "results = xgb_model.evals_result()\n",
    "epochs = len(results['validation_0']['error'])\n",
    "x_axis = range(0, epochs)\n",
    "# plot log loss\n",
    "fig, ax = plt.subplots()\n",
    "ax.plot(x_axis, results['validation_0']['logloss'], label='Train')\n",
    "ax.plot(x_axis, results['validation_1']['logloss'], label='Test')\n",
    "ax.legend()\n",
    "plt.ylabel('Log Loss')\n",
    "plt.title('XGBoost Log Loss')\n",
    "plt.show()"
   ]
  },
  {
   "cell_type": "code",
   "execution_count": 126,
   "metadata": {},
   "outputs": [
    {
     "data": {
      "image/png": "[encoded data removed]",
      "text/plain": [
       "<Figure size 432x288 with 1 Axes>"
      ]
     },
     "metadata": {
      "needs_background": "light"
     },
     "output_type": "display_data"
    }
   ],
   "source": [
    "# plot classification error\n",
    "fig, ax = plt.subplots()\n",
    "ax.plot(x_axis, results['validation_0']['error'], label='Train')\n",
    "ax.plot(x_axis, results['validation_1']['error'], label='Test')\n",
    "ax.legend()\n",
    "plt.ylabel('Classification Error')\n",
    "plt.title('XGBoost Classification Error')\n",
    "plt.show()"
   ]
  },
  {
   "cell_type": "code",
   "execution_count": 129,
   "metadata": {},
   "outputs": [
    {
     "name": "stdout",
     "output_type": "stream",
     "text": [
      "93.13\n"
     ]
    },
    {
     "data": {
      "text/plain": [
       "0.8964055214544012"
      ]
     },
     "execution_count": 129,
     "metadata": {},
     "output_type": "execute_result"
    }
   ],
   "source": [
    "y_pred_xgb = xgb_model.predict_proba(X_test)\n",
    "acc_xgb = round(xgb_model.score(X_test, y_test) * 100, 2)\n",
    "print (acc_xgb)\n",
    "metrics.roc_auc_score(y_test,y_pred_xgb[:,1])"
   ]
  },
  {
   "cell_type": "code",
   "execution_count": 141,
   "metadata": {},
   "outputs": [
    {
     "name": "stdout",
     "output_type": "stream",
     "text": [
      "0.9292373112358938\n",
      "0.9314724963201221\n",
      "0.9312544294826365\n",
      "0.9312544294826365\n",
      "0.9292373112358938\n"
     ]
    }
   ],
   "source": [
    "for i in [.4, .45,.5,.55, .6]:\n",
    "    y_pred_class = np.where(y_pred_xgb[:,1] >= i, 1, 0)\n",
    "#     confusion = metrics.confusion_matrix(y_test, y_pred_class)\n",
    "    print(metrics.accuracy_score(y_test, y_pred_class))"
   ]
  },
  {
   "cell_type": "code",
   "execution_count": 144,
   "metadata": {},
   "outputs": [],
   "source": [
    "make_final_preds(xgb_model, 0.07)"
   ]
  },
  {
   "cell_type": "code",
   "execution_count": 98,
   "metadata": {},
   "outputs": [
    {
     "name": "stdout",
     "output_type": "stream",
     "text": [
      "Fitting 5 folds for each of 25 candidates, totalling 125 fits\n"
     ]
    },
    {
     "name": "stderr",
     "output_type": "stream",
     "text": [
      "[Parallel(n_jobs=-1)]: Using backend LokyBackend with 8 concurrent workers.\n",
      "[Parallel(n_jobs=-1)]: Done  16 tasks      | elapsed: 60.0min\n",
      "[Parallel(n_jobs=-1)]: Done 125 out of 125 | elapsed: 352.1min finished\n"
     ]
    },
    {
     "name": "stdout",
     "output_type": "stream",
     "text": [
      "Fitting 5 folds for each of 25 candidates, totalling 125 fits\n"
     ]
    },
    {
     "name": "stderr",
     "output_type": "stream",
     "text": [
      "[Parallel(n_jobs=-1)]: Using backend LokyBackend with 8 concurrent workers.\n"
     ]
    },
    {
     "ename": "KeyboardInterrupt",
     "evalue": "",
     "output_type": "error",
     "traceback": [
      "\u001b[0;31m---------------------------------------------------------------------------\u001b[0m",
      "\u001b[0;31mKeyboardInterrupt\u001b[0m                         Traceback (most recent call last)",
      "\u001b[0;32m<ipython-input-98-4b1e8d80265b>\u001b[0m in \u001b[0;36m<module>\u001b[0;34m\u001b[0m\n\u001b[1;32m     20\u001b[0m     \u001b[0mX_train\u001b[0m\u001b[0;34m,\u001b[0m \u001b[0mX_test\u001b[0m \u001b[0;34m=\u001b[0m \u001b[0mX\u001b[0m\u001b[0;34m.\u001b[0m\u001b[0miloc\u001b[0m\u001b[0;34m[\u001b[0m\u001b[0mtrain_index\u001b[0m\u001b[0;34m,\u001b[0m\u001b[0;34m:\u001b[0m\u001b[0;34m]\u001b[0m\u001b[0;34m,\u001b[0m \u001b[0mX\u001b[0m\u001b[0;34m.\u001b[0m\u001b[0miloc\u001b[0m\u001b[0;34m[\u001b[0m\u001b[0mtest_index\u001b[0m\u001b[0;34m,\u001b[0m\u001b[0;34m:\u001b[0m\u001b[0;34m]\u001b[0m\u001b[0;34m\u001b[0m\u001b[0;34m\u001b[0m\u001b[0m\n\u001b[1;32m     21\u001b[0m     \u001b[0my_train\u001b[0m\u001b[0;34m,\u001b[0m \u001b[0my_test\u001b[0m \u001b[0;34m=\u001b[0m \u001b[0my\u001b[0m\u001b[0;34m.\u001b[0m\u001b[0miloc\u001b[0m\u001b[0;34m[\u001b[0m\u001b[0mtrain_index\u001b[0m\u001b[0;34m]\u001b[0m\u001b[0;34m.\u001b[0m\u001b[0mvalues\u001b[0m\u001b[0;34m.\u001b[0m\u001b[0mravel\u001b[0m\u001b[0;34m(\u001b[0m\u001b[0;34m)\u001b[0m\u001b[0;34m,\u001b[0m \u001b[0my\u001b[0m\u001b[0;34m.\u001b[0m\u001b[0miloc\u001b[0m\u001b[0;34m[\u001b[0m\u001b[0mtest_index\u001b[0m\u001b[0;34m]\u001b[0m\u001b[0;34m.\u001b[0m\u001b[0mvalues\u001b[0m\u001b[0;34m.\u001b[0m\u001b[0mravel\u001b[0m\u001b[0;34m(\u001b[0m\u001b[0;34m)\u001b[0m\u001b[0;34m\u001b[0m\u001b[0;34m\u001b[0m\u001b[0m\n\u001b[0;32m---> 22\u001b[0;31m     \u001b[0mclf\u001b[0m\u001b[0;34m.\u001b[0m\u001b[0mfit\u001b[0m\u001b[0;34m(\u001b[0m\u001b[0mX_train\u001b[0m\u001b[0;34m,\u001b[0m \u001b[0my_train\u001b[0m\u001b[0;34m)\u001b[0m\u001b[0;34m\u001b[0m\u001b[0;34m\u001b[0m\u001b[0m\n\u001b[0m\u001b[1;32m     23\u001b[0m \u001b[0;34m\u001b[0m\u001b[0m\n\u001b[1;32m     24\u001b[0m     \u001b[0mestimators\u001b[0m\u001b[0;34m.\u001b[0m\u001b[0mappend\u001b[0m\u001b[0;34m(\u001b[0m\u001b[0mclf\u001b[0m\u001b[0;34m.\u001b[0m\u001b[0mbest_estimator_\u001b[0m\u001b[0;34m)\u001b[0m\u001b[0;34m\u001b[0m\u001b[0;34m\u001b[0m\u001b[0m\n",
      "\u001b[0;32m~/.venv/py36/lib/python3.6/site-packages/sklearn/model_selection/_search.py\u001b[0m in \u001b[0;36mfit\u001b[0;34m(self, X, y, groups, **fit_params)\u001b[0m\n\u001b[1;32m    710\u001b[0m                 \u001b[0;32mreturn\u001b[0m \u001b[0mresults\u001b[0m\u001b[0;34m\u001b[0m\u001b[0;34m\u001b[0m\u001b[0m\n\u001b[1;32m    711\u001b[0m \u001b[0;34m\u001b[0m\u001b[0m\n\u001b[0;32m--> 712\u001b[0;31m             \u001b[0mself\u001b[0m\u001b[0;34m.\u001b[0m\u001b[0m_run_search\u001b[0m\u001b[0;34m(\u001b[0m\u001b[0mevaluate_candidates\u001b[0m\u001b[0;34m)\u001b[0m\u001b[0;34m\u001b[0m\u001b[0;34m\u001b[0m\u001b[0m\n\u001b[0m\u001b[1;32m    713\u001b[0m \u001b[0;34m\u001b[0m\u001b[0m\n\u001b[1;32m    714\u001b[0m         \u001b[0;31m# For multi-metric evaluation, store the best_index_, best_params_ and\u001b[0m\u001b[0;34m\u001b[0m\u001b[0;34m\u001b[0m\u001b[0;34m\u001b[0m\u001b[0m\n",
      "\u001b[0;32m~/.venv/py36/lib/python3.6/site-packages/sklearn/model_selection/_search.py\u001b[0m in \u001b[0;36m_run_search\u001b[0;34m(self, evaluate_candidates)\u001b[0m\n\u001b[1;32m   1484\u001b[0m         evaluate_candidates(ParameterSampler(\n\u001b[1;32m   1485\u001b[0m             \u001b[0mself\u001b[0m\u001b[0;34m.\u001b[0m\u001b[0mparam_distributions\u001b[0m\u001b[0;34m,\u001b[0m \u001b[0mself\u001b[0m\u001b[0;34m.\u001b[0m\u001b[0mn_iter\u001b[0m\u001b[0;34m,\u001b[0m\u001b[0;34m\u001b[0m\u001b[0;34m\u001b[0m\u001b[0m\n\u001b[0;32m-> 1486\u001b[0;31m             random_state=self.random_state))\n\u001b[0m",
      "\u001b[0;32m~/.venv/py36/lib/python3.6/site-packages/sklearn/model_selection/_search.py\u001b[0m in \u001b[0;36mevaluate_candidates\u001b[0;34m(candidate_params)\u001b[0m\n\u001b[1;32m    689\u001b[0m                                \u001b[0;32mfor\u001b[0m \u001b[0mparameters\u001b[0m\u001b[0;34m,\u001b[0m \u001b[0;34m(\u001b[0m\u001b[0mtrain\u001b[0m\u001b[0;34m,\u001b[0m \u001b[0mtest\u001b[0m\u001b[0;34m)\u001b[0m\u001b[0;34m\u001b[0m\u001b[0;34m\u001b[0m\u001b[0m\n\u001b[1;32m    690\u001b[0m                                in product(candidate_params,\n\u001b[0;32m--> 691\u001b[0;31m                                           cv.split(X, y, groups)))\n\u001b[0m\u001b[1;32m    692\u001b[0m \u001b[0;34m\u001b[0m\u001b[0m\n\u001b[1;32m    693\u001b[0m                 \u001b[0;32mif\u001b[0m \u001b[0mlen\u001b[0m\u001b[0;34m(\u001b[0m\u001b[0mout\u001b[0m\u001b[0;34m)\u001b[0m \u001b[0;34m<\u001b[0m \u001b[0;36m1\u001b[0m\u001b[0;34m:\u001b[0m\u001b[0;34m\u001b[0m\u001b[0;34m\u001b[0m\u001b[0m\n",
      "\u001b[0;32m~/.venv/py36/lib/python3.6/site-packages/joblib/parallel.py\u001b[0m in \u001b[0;36m__call__\u001b[0;34m(self, iterable)\u001b[0m\n\u001b[1;32m   1015\u001b[0m \u001b[0;34m\u001b[0m\u001b[0m\n\u001b[1;32m   1016\u001b[0m             \u001b[0;32mwith\u001b[0m \u001b[0mself\u001b[0m\u001b[0;34m.\u001b[0m\u001b[0m_backend\u001b[0m\u001b[0;34m.\u001b[0m\u001b[0mretrieval_context\u001b[0m\u001b[0;34m(\u001b[0m\u001b[0;34m)\u001b[0m\u001b[0;34m:\u001b[0m\u001b[0;34m\u001b[0m\u001b[0;34m\u001b[0m\u001b[0m\n\u001b[0;32m-> 1017\u001b[0;31m                 \u001b[0mself\u001b[0m\u001b[0;34m.\u001b[0m\u001b[0mretrieve\u001b[0m\u001b[0;34m(\u001b[0m\u001b[0;34m)\u001b[0m\u001b[0;34m\u001b[0m\u001b[0;34m\u001b[0m\u001b[0m\n\u001b[0m\u001b[1;32m   1018\u001b[0m             \u001b[0;31m# Make sure that we get a last message telling us we are done\u001b[0m\u001b[0;34m\u001b[0m\u001b[0;34m\u001b[0m\u001b[0;34m\u001b[0m\u001b[0m\n\u001b[1;32m   1019\u001b[0m             \u001b[0melapsed_time\u001b[0m \u001b[0;34m=\u001b[0m \u001b[0mtime\u001b[0m\u001b[0;34m.\u001b[0m\u001b[0mtime\u001b[0m\u001b[0;34m(\u001b[0m\u001b[0;34m)\u001b[0m \u001b[0;34m-\u001b[0m \u001b[0mself\u001b[0m\u001b[0;34m.\u001b[0m\u001b[0m_start_time\u001b[0m\u001b[0;34m\u001b[0m\u001b[0;34m\u001b[0m\u001b[0m\n",
      "\u001b[0;32m~/.venv/py36/lib/python3.6/site-packages/joblib/parallel.py\u001b[0m in \u001b[0;36mretrieve\u001b[0;34m(self)\u001b[0m\n\u001b[1;32m    907\u001b[0m             \u001b[0;32mtry\u001b[0m\u001b[0;34m:\u001b[0m\u001b[0;34m\u001b[0m\u001b[0;34m\u001b[0m\u001b[0m\n\u001b[1;32m    908\u001b[0m                 \u001b[0;32mif\u001b[0m \u001b[0mgetattr\u001b[0m\u001b[0;34m(\u001b[0m\u001b[0mself\u001b[0m\u001b[0;34m.\u001b[0m\u001b[0m_backend\u001b[0m\u001b[0;34m,\u001b[0m \u001b[0;34m'supports_timeout'\u001b[0m\u001b[0;34m,\u001b[0m \u001b[0;32mFalse\u001b[0m\u001b[0;34m)\u001b[0m\u001b[0;34m:\u001b[0m\u001b[0;34m\u001b[0m\u001b[0;34m\u001b[0m\u001b[0m\n\u001b[0;32m--> 909\u001b[0;31m                     \u001b[0mself\u001b[0m\u001b[0;34m.\u001b[0m\u001b[0m_output\u001b[0m\u001b[0;34m.\u001b[0m\u001b[0mextend\u001b[0m\u001b[0;34m(\u001b[0m\u001b[0mjob\u001b[0m\u001b[0;34m.\u001b[0m\u001b[0mget\u001b[0m\u001b[0;34m(\u001b[0m\u001b[0mtimeout\u001b[0m\u001b[0;34m=\u001b[0m\u001b[0mself\u001b[0m\u001b[0;34m.\u001b[0m\u001b[0mtimeout\u001b[0m\u001b[0;34m)\u001b[0m\u001b[0;34m)\u001b[0m\u001b[0;34m\u001b[0m\u001b[0;34m\u001b[0m\u001b[0m\n\u001b[0m\u001b[1;32m    910\u001b[0m                 \u001b[0;32melse\u001b[0m\u001b[0;34m:\u001b[0m\u001b[0;34m\u001b[0m\u001b[0;34m\u001b[0m\u001b[0m\n\u001b[1;32m    911\u001b[0m                     \u001b[0mself\u001b[0m\u001b[0;34m.\u001b[0m\u001b[0m_output\u001b[0m\u001b[0;34m.\u001b[0m\u001b[0mextend\u001b[0m\u001b[0;34m(\u001b[0m\u001b[0mjob\u001b[0m\u001b[0;34m.\u001b[0m\u001b[0mget\u001b[0m\u001b[0;34m(\u001b[0m\u001b[0;34m)\u001b[0m\u001b[0;34m)\u001b[0m\u001b[0;34m\u001b[0m\u001b[0;34m\u001b[0m\u001b[0m\n",
      "\u001b[0;32m~/.venv/py36/lib/python3.6/site-packages/joblib/_parallel_backends.py\u001b[0m in \u001b[0;36mwrap_future_result\u001b[0;34m(future, timeout)\u001b[0m\n\u001b[1;32m    560\u001b[0m         AsyncResults.get from multiprocessing.\"\"\"\n\u001b[1;32m    561\u001b[0m         \u001b[0;32mtry\u001b[0m\u001b[0;34m:\u001b[0m\u001b[0;34m\u001b[0m\u001b[0;34m\u001b[0m\u001b[0m\n\u001b[0;32m--> 562\u001b[0;31m             \u001b[0;32mreturn\u001b[0m \u001b[0mfuture\u001b[0m\u001b[0;34m.\u001b[0m\u001b[0mresult\u001b[0m\u001b[0;34m(\u001b[0m\u001b[0mtimeout\u001b[0m\u001b[0;34m=\u001b[0m\u001b[0mtimeout\u001b[0m\u001b[0;34m)\u001b[0m\u001b[0;34m\u001b[0m\u001b[0;34m\u001b[0m\u001b[0m\n\u001b[0m\u001b[1;32m    563\u001b[0m         \u001b[0;32mexcept\u001b[0m \u001b[0mLokyTimeoutError\u001b[0m\u001b[0;34m:\u001b[0m\u001b[0;34m\u001b[0m\u001b[0;34m\u001b[0m\u001b[0m\n\u001b[1;32m    564\u001b[0m             \u001b[0;32mraise\u001b[0m \u001b[0mTimeoutError\u001b[0m\u001b[0;34m(\u001b[0m\u001b[0;34m)\u001b[0m\u001b[0;34m\u001b[0m\u001b[0;34m\u001b[0m\u001b[0m\n",
      "\u001b[0;32m/export/apps/python/3.6/lib/python3.6/concurrent/futures/_base.py\u001b[0m in \u001b[0;36mresult\u001b[0;34m(self, timeout)\u001b[0m\n\u001b[1;32m    425\u001b[0m                 \u001b[0;32mreturn\u001b[0m \u001b[0mself\u001b[0m\u001b[0;34m.\u001b[0m\u001b[0m__get_result\u001b[0m\u001b[0;34m(\u001b[0m\u001b[0;34m)\u001b[0m\u001b[0;34m\u001b[0m\u001b[0;34m\u001b[0m\u001b[0m\n\u001b[1;32m    426\u001b[0m \u001b[0;34m\u001b[0m\u001b[0m\n\u001b[0;32m--> 427\u001b[0;31m             \u001b[0mself\u001b[0m\u001b[0;34m.\u001b[0m\u001b[0m_condition\u001b[0m\u001b[0;34m.\u001b[0m\u001b[0mwait\u001b[0m\u001b[0;34m(\u001b[0m\u001b[0mtimeout\u001b[0m\u001b[0;34m)\u001b[0m\u001b[0;34m\u001b[0m\u001b[0;34m\u001b[0m\u001b[0m\n\u001b[0m\u001b[1;32m    428\u001b[0m \u001b[0;34m\u001b[0m\u001b[0m\n\u001b[1;32m    429\u001b[0m             \u001b[0;32mif\u001b[0m \u001b[0mself\u001b[0m\u001b[0;34m.\u001b[0m\u001b[0m_state\u001b[0m \u001b[0;32min\u001b[0m \u001b[0;34m[\u001b[0m\u001b[0mCANCELLED\u001b[0m\u001b[0;34m,\u001b[0m \u001b[0mCANCELLED_AND_NOTIFIED\u001b[0m\u001b[0;34m]\u001b[0m\u001b[0;34m:\u001b[0m\u001b[0;34m\u001b[0m\u001b[0;34m\u001b[0m\u001b[0m\n",
      "\u001b[0;32m/export/apps/python/3.6/lib/python3.6/threading.py\u001b[0m in \u001b[0;36mwait\u001b[0;34m(self, timeout)\u001b[0m\n\u001b[1;32m    293\u001b[0m         \u001b[0;32mtry\u001b[0m\u001b[0;34m:\u001b[0m    \u001b[0;31m# restore state no matter what (e.g., KeyboardInterrupt)\u001b[0m\u001b[0;34m\u001b[0m\u001b[0;34m\u001b[0m\u001b[0m\n\u001b[1;32m    294\u001b[0m             \u001b[0;32mif\u001b[0m \u001b[0mtimeout\u001b[0m \u001b[0;32mis\u001b[0m \u001b[0;32mNone\u001b[0m\u001b[0;34m:\u001b[0m\u001b[0;34m\u001b[0m\u001b[0;34m\u001b[0m\u001b[0m\n\u001b[0;32m--> 295\u001b[0;31m                 \u001b[0mwaiter\u001b[0m\u001b[0;34m.\u001b[0m\u001b[0macquire\u001b[0m\u001b[0;34m(\u001b[0m\u001b[0;34m)\u001b[0m\u001b[0;34m\u001b[0m\u001b[0;34m\u001b[0m\u001b[0m\n\u001b[0m\u001b[1;32m    296\u001b[0m                 \u001b[0mgotit\u001b[0m \u001b[0;34m=\u001b[0m \u001b[0;32mTrue\u001b[0m\u001b[0;34m\u001b[0m\u001b[0;34m\u001b[0m\u001b[0m\n\u001b[1;32m    297\u001b[0m             \u001b[0;32melse\u001b[0m\u001b[0;34m:\u001b[0m\u001b[0;34m\u001b[0m\u001b[0;34m\u001b[0m\u001b[0m\n",
      "\u001b[0;31mKeyboardInterrupt\u001b[0m: "
     ]
    }
   ],
   "source": [
    "from sklearn.model_selection import RandomizedSearchCV, KFold\n",
    "from scipy import stats\n",
    "\n",
    "clf_xgb = XGBClassifier(objective = 'binary:logistic')\n",
    "param_dist = {'n_estimators': stats.randint(150, 500),\n",
    "              'learning_rate': stats.uniform(0.01, 0.07),\n",
    "              'subsample': stats.uniform(0.3, 0.7),\n",
    "              'max_depth': [3, 5,  7, 9],\n",
    "              'colsample_bytree': stats.uniform(0.5, 0.45),\n",
    "              'min_child_weight': [1, 2, 3]\n",
    "             }\n",
    "clf = RandomizedSearchCV(clf_xgb, param_distributions = param_dist, n_iter = 25, scoring = 'f1', error_score = 0, verbose = 3, n_jobs = -1)\n",
    "\n",
    "numFolds = 5\n",
    "folds = KFold(n_splits = numFolds, shuffle = True)\n",
    "estimators = []\n",
    "results = np.zeros(len(X))\n",
    "score = 0.0\n",
    "for train_index, test_index in folds.split(X):\n",
    "    X_train, X_test = X.iloc[train_index,:], X.iloc[test_index,:]\n",
    "    y_train, y_test = y.iloc[train_index].values.ravel(), y.iloc[test_index].values.ravel()\n",
    "    clf.fit(X_train, y_train)\n",
    "\n",
    "    estimators.append(clf.best_estimator_)\n",
    "    results[test_index] = clf.predict(X_test)\n",
    "    score += metrics.f1_score(y_test, results[test_index])\n",
    "score /= numFolds"
   ]
  },
  {
   "cell_type": "code",
   "execution_count": 104,
   "metadata": {},
   "outputs": [],
   "source": [
    "best_xgb = estimators[0]\n",
    "# y_pred_xgb = best_xgb.predict_proba(X_test)"
   ]
  },
  {
   "cell_type": "code",
   "execution_count": 127,
   "metadata": {},
   "outputs": [
    {
     "name": "stdout",
     "output_type": "stream",
     "text": [
      "96.85\n"
     ]
    },
    {
     "data": {
      "text/plain": [
       "0.986235782271006"
      ]
     },
     "execution_count": 127,
     "metadata": {},
     "output_type": "execute_result"
    }
   ],
   "source": [
    "y_pred_xgb = best_xgb.predict_proba(X_test)\n",
    "acc_xgb = round(best_xgb.score(X_test, y_test) * 100, 2)\n",
    "print (acc_xgb)\n",
    "metrics.roc_auc_score(y_test,y_pred_xgb[:,1])"
   ]
  },
  {
   "cell_type": "code",
   "execution_count": 108,
   "metadata": {},
   "outputs": [
    {
     "data": {
      "image/png": "[encoded data removed]",
      "text/plain": [
       "<Figure size 432x288 with 1 Axes>"
      ]
     },
     "metadata": {
      "needs_background": "light"
     },
     "output_type": "display_data"
    }
   ],
   "source": [
    "preds = pd.DataFrame(y_pred_xgb[:,1])\n",
    "hist = preds.hist(bins=10)"
   ]
  },
  {
   "cell_type": "code",
   "execution_count": 118,
   "metadata": {},
   "outputs": [
    {
     "data": {
      "text/plain": [
       "XGBClassifier(base_score=0.5, booster='gbtree', colsample_bylevel=1,\n",
       "              colsample_bynode=1, colsample_bytree=0.9139582583049244, gamma=0,\n",
       "              learning_rate=0.052295392520819085, max_delta_step=0, max_depth=7,\n",
       "              min_child_weight=3, missing=None, n_estimators=486, n_jobs=1,\n",
       "              nthread=None, objective='binary:logistic', random_state=0,\n",
       "              reg_alpha=0, reg_lambda=1, scale_pos_weight=1, seed=None,\n",
       "              silent=None, subsample=0.3835058649443393, verbosity=1)"
      ]
     },
     "execution_count": 118,
     "metadata": {},
     "output_type": "execute_result"
    }
   ],
   "source": [
    "# preds.head()\n",
    "best_xgb"
   ]
  },
  {
   "cell_type": "code",
   "execution_count": 112,
   "metadata": {},
   "outputs": [
    {
     "data": {
      "text/plain": [
       "0.177615439132094"
      ]
     },
     "execution_count": 112,
     "metadata": {},
     "output_type": "execute_result"
    }
   ],
   "source": [
    "preds[preds[0]>0.1].shape[0]/preds.shape[0]"
   ]
  },
  {
   "cell_type": "code",
   "execution_count": 105,
   "metadata": {},
   "outputs": [
    {
     "data": {
      "image/png": "[encoded data removed]",
      "text/plain": [
       "<Figure size 432x288 with 1 Axes>"
      ]
     },
     "metadata": {
      "needs_background": "light"
     },
     "output_type": "display_data"
    }
   ],
   "source": [
    "# Plot ROC curve\n",
    "fpr, tpr, _ = metrics.roc_curve(y_test, y_pred_xgb[:, 1])\n",
    "roc_auc = metrics.auc(fpr, tpr)\n",
    "plt.figure()\n",
    "lw = 2\n",
    "plt.plot(fpr, tpr, color='darkorange',\n",
    "         lw=lw, label='ROC curve (area = %0.2f)' % roc_auc)\n",
    "plt.plot([0, 1], [0, 1], color='navy', lw=lw, linestyle='--')\n",
    "plt.xlim([0.0, 1.0])\n",
    "plt.ylim([0.0, 1.05])\n",
    "plt.xlabel('False Positive Rate')\n",
    "plt.ylabel('True Positive Rate')\n",
    "plt.title('Receiver operating characteristic example')\n",
    "plt.legend(loc=\"lower right\")\n",
    "plt.show()"
   ]
  },
  {
   "cell_type": "code",
   "execution_count": 117,
   "metadata": {},
   "outputs": [],
   "source": [
    "make_final_preds(best_xgb, 0.06)"
   ]
  },
  {
   "cell_type": "code",
   "execution_count": null,
   "metadata": {},
   "outputs": [
    {
     "name": "stdout",
     "output_type": "stream",
     "text": [
      "Fitting 5 folds for each of 9 candidates, totalling 45 fits\n"
     ]
    },
    {
     "name": "stderr",
     "output_type": "stream",
     "text": [
      "[Parallel(n_jobs=1)]: Using backend SequentialBackend with 1 concurrent workers.\n"
     ]
    }
   ],
   "source": [
    "from sklearn.model_selection import GridSearchCV\n",
    "\n",
    "xgb_model = xgboost.XGBClassifier()\n",
    "optimization_dict = {'max_depth': [2,4,6],\n",
    "                     'n_estimators': [50,100,200]}\n",
    "\n",
    "model = GridSearchCV(xgb_model, optimization_dict, \n",
    "                     scoring='accuracy', verbose=1)\n",
    "\n",
    "model.fit(X_train,y_train)\n",
    "print(model.best_score_)\n",
    "print(model.best_params_)"
   ]
  },
  {
   "cell_type": "markdown",
   "metadata": {},
   "source": [
    "### Catboost"
   ]
  },
  {
   "cell_type": "code",
   "execution_count": 116,
   "metadata": {},
   "outputs": [
    {
     "ename": "NameError",
     "evalue": "name 'categorical_features_indices' is not defined",
     "output_type": "error",
     "traceback": [
      "\u001b[0;31m---------------------------------------------------------------------------\u001b[0m",
      "\u001b[0;31mNameError\u001b[0m                                 Traceback (most recent call last)",
      "\u001b[0;32m<ipython-input-116-a6e9524463a4>\u001b[0m in \u001b[0;36m<module>\u001b[0;34m\u001b[0m\n\u001b[1;32m      1\u001b[0m \u001b[0;32mfrom\u001b[0m \u001b[0mcatboost\u001b[0m \u001b[0;32mimport\u001b[0m \u001b[0mCatBoostRegressor\u001b[0m\u001b[0;34m\u001b[0m\u001b[0;34m\u001b[0m\u001b[0m\n\u001b[1;32m      2\u001b[0m \u001b[0mcbmodel\u001b[0m\u001b[0;34m=\u001b[0m\u001b[0mCatBoostRegressor\u001b[0m\u001b[0;34m(\u001b[0m\u001b[0miterations\u001b[0m\u001b[0;34m=\u001b[0m\u001b[0;36m50\u001b[0m\u001b[0;34m,\u001b[0m \u001b[0mdepth\u001b[0m\u001b[0;34m=\u001b[0m\u001b[0;36m3\u001b[0m\u001b[0;34m,\u001b[0m \u001b[0mlearning_rate\u001b[0m\u001b[0;34m=\u001b[0m\u001b[0;36m0.1\u001b[0m\u001b[0;34m,\u001b[0m \u001b[0mloss_function\u001b[0m\u001b[0;34m=\u001b[0m\u001b[0;34m'RMSE'\u001b[0m\u001b[0;34m)\u001b[0m\u001b[0;34m\u001b[0m\u001b[0;34m\u001b[0m\u001b[0m\n\u001b[0;32m----> 3\u001b[0;31m \u001b[0mcbmodel\u001b[0m\u001b[0;34m.\u001b[0m\u001b[0mfit\u001b[0m\u001b[0;34m(\u001b[0m\u001b[0mX_train\u001b[0m\u001b[0;34m,\u001b[0m \u001b[0my_train\u001b[0m\u001b[0;34m,\u001b[0m\u001b[0mcat_features\u001b[0m\u001b[0;34m=\u001b[0m\u001b[0mcategorical_features_indices\u001b[0m\u001b[0;34m,\u001b[0m\u001b[0meval_set\u001b[0m\u001b[0;34m=\u001b[0m\u001b[0;34m(\u001b[0m\u001b[0mX_validation\u001b[0m\u001b[0;34m,\u001b[0m \u001b[0my_validation\u001b[0m\u001b[0;34m)\u001b[0m\u001b[0;34m,\u001b[0m\u001b[0mplot\u001b[0m\u001b[0;34m=\u001b[0m\u001b[0;32mTrue\u001b[0m\u001b[0;34m)\u001b[0m\u001b[0;34m\u001b[0m\u001b[0;34m\u001b[0m\u001b[0m\n\u001b[0m",
      "\u001b[0;31mNameError\u001b[0m: name 'categorical_features_indices' is not defined"
     ]
    }
   ],
   "source": [
    "from catboost import CatBoostRegressor\n",
    "cbmodel=CatBoostRegressor(iterations=50, depth=3, learning_rate=0.1, loss_function='RMSE')\n",
    "cbmodel.fit(X_train, y_train,cat_features=categorical_features_indices,eval_set=(X_validation, y_validation),plot=True)"
   ]
  },
  {
   "cell_type": "code",
   "execution_count": null,
   "metadata": {},
   "outputs": [],
   "source": []
  },
  {
   "cell_type": "code",
   "execution_count": null,
   "metadata": {},
   "outputs": [],
   "source": []
  },
  {
   "cell_type": "code",
   "execution_count": null,
   "metadata": {},
   "outputs": [],
   "source": []
  }
 ],
 "metadata": {
  "kernelspec": {
   "display_name": "Python 3",
   "language": "python",
   "name": "python3"
  },
  "language_info": {
   "codemirror_mode": {
    "name": "ipython",
    "version": 3
   },
   "file_extension": ".py",
   "mimetype": "text/x-python",
   "name": "python",
   "nbconvert_exporter": "python",
   "pygments_lexer": "ipython3",
   "version": "3.6.9"
  }
 },
 "nbformat": 4,
 "nbformat_minor": 4
}

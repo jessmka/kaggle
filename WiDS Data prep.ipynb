{
 "cells": [
  {
   "cell_type": "code",
   "execution_count": 5,
   "metadata": {},
   "outputs": [],
   "source": [
    "import pandas as pd\n",
    "import pickle\n",
    "import numpy as np"
   ]
  },
  {
   "cell_type": "code",
   "execution_count": 7,
   "metadata": {},
   "outputs": [],
   "source": [
    "train = pd.read_csv('/Users/jekahn/Downloads/widsdatathon2020/training_v2.csv')\n",
    "wids_dict = pd.read_csv('/Users/jekahn/Downloads/widsdatathon2020/WiDS Datathon 2020 Dictionary.csv')\n",
    "unlabeled_ = pd.read_csv('/Users/jekahn/Downloads/widsdatathon2020/unlabeled.csv')"
   ]
  },
  {
   "cell_type": "code",
   "execution_count": 8,
   "metadata": {},
   "outputs": [],
   "source": [
    "train['data_row'] = 'train'\n",
    "unlabeled_['data_row'] = 'unlabeled'\n",
    "full_df_ = pd.concat([train, unlabeled_], axis=0)"
   ]
  },
  {
   "cell_type": "code",
   "execution_count": 9,
   "metadata": {},
   "outputs": [],
   "source": [
    "# Fill missing values separately for categorical and numeric columns\n",
    "data_row = full_df_.pop('data_row')\n",
    "full_df = full_df_.copy()\n",
    "full_df['hospital_id'] = full_df['hospital_id'].apply(str)\n",
    "full_df['icu_id'] = full_df['icu_id'].apply(str)\n",
    "full_df['hospital_admit_source'] = full_df['hospital_admit_source'].apply(str)\n",
    "\n",
    "num_cols = full_df.select_dtypes(include=np.number).columns.tolist()\n",
    "cat_cols = [col for col in full_df.columns if col not in num_cols]\n",
    "for col in num_cols:\n",
    "    full_df[col].fillna(full_df[col].mean(), inplace=True)\n",
    "\n",
    "full_df.ethnicity.fillna('Other/Unknown', inplace=True)\n",
    "full_df.gender.fillna('missing', inplace=True)\n",
    "full_df.hospital_admit_source.fillna('missing', inplace=True)\n",
    "full_df.icu_admit_source.fillna('missing', inplace=True)\n",
    "full_df.apache_3j_bodysystem.fillna('missing', inplace=True)\n",
    "full_df.apache_2_bodysystem.fillna('missing', inplace=True)"
   ]
  },
  {
   "cell_type": "code",
   "execution_count": 12,
   "metadata": {},
   "outputs": [],
   "source": [
    "full_df.to_pickle('fulldf_prepped.pkl')\n",
    "data_row.to_pickle('set_row.pkl')"
   ]
  },
  {
   "cell_type": "code",
   "execution_count": null,
   "metadata": {},
   "outputs": [],
   "source": [
    "# X_train, X_test, y_train, y_test = train_test_split(\n",
    "#     X, y, test_size=0.2, random_state=42)"
   ]
  },
  {
   "cell_type": "code",
   "execution_count": null,
   "metadata": {},
   "outputs": [],
   "source": [
    "# list_pickle = open(list_pickle_path, 'wb')\n",
    "# pickle.dump(results, list_pickle)\n",
    "# list_pickle.close()"
   ]
  }
 ],
 "metadata": {
  "kernelspec": {
   "display_name": "Python 3",
   "language": "python",
   "name": "python3"
  },
  "language_info": {
   "codemirror_mode": {
    "name": "ipython",
    "version": 3
   },
   "file_extension": ".py",
   "mimetype": "text/x-python",
   "name": "python",
   "nbconvert_exporter": "python",
   "pygments_lexer": "ipython3",
   "version": "3.6.9"
  }
 },
 "nbformat": 4,
 "nbformat_minor": 4
}
